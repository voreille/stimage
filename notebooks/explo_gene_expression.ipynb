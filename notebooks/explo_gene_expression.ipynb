{
 "cells": [
  {
   "cell_type": "code",
   "execution_count": null,
   "metadata": {},
   "outputs": [],
   "source": [
    "# here we find the overlap genes in human brain\n",
    "import pandas as pd\n",
    "import scanpy as sc\n",
    "import sys"
   ]
  },
  {
   "cell_type": "code",
   "execution_count": null,
   "metadata": {},
   "outputs": [],
   "source": [
    "meta = pd.read_csv('/workspaces/stimage/data/meta_all_gene.csv')\n",
    "path = \"/workspaces/stimage/data/raw\""
   ]
  },
  {
   "cell_type": "code",
   "execution_count": null,
   "metadata": {},
   "outputs": [],
   "source": [
    "data = meta.loc[(meta['species'] == 'human') & (meta['tissue'] == 'lung'), :]\n",
    "data.index = range(len(data.index))\n",
    "\n",
    "for i in range(len(data.index)):\n",
    "    gene_exp_slide = pd.read_csv(\n",
    "        f'{path}/{data.tech[i]}/gene_exp/{data.slide[i]}_count.csv',\n",
    "        sep=',',\n",
    "        nrows=1,\n",
    "        index_col=0)\n",
    "    if i == 0:\n",
    "        gene_name_overlap = gene_exp_slide.columns\n",
    "    else:\n",
    "        gene_name_overlap = gene_name_overlap.intersection(\n",
    "            gene_exp_slide.columns)\n",
    "    print(i)\n"
   ]
  },
  {
   "cell_type": "code",
   "execution_count": null,
   "metadata": {},
   "outputs": [],
   "source": [
    "len(gene_name_overlap)"
   ]
  },
  {
   "cell_type": "code",
   "execution_count": null,
   "metadata": {},
   "outputs": [],
   "source": [
    "import dask.dataframe as dd\n",
    "\n",
    "# Initialize an empty Dask DataFrame\n",
    "gene_exp = None\n",
    "\n",
    "for index in range(len(data)):\n",
    "    slide = data['slide'][index]\n",
    "    tech = data['tech'][index]\n",
    "\n",
    "    # Read the CSV using Dask\n",
    "    gene_exp_slide = dd.read_csv(\n",
    "        f'{path}/{tech}/gene_exp/{slide}_count.csv',\n",
    "        sep=',',\n",
    "        assume_missing=True,\n",
    "        sample=10**7  # Increase this number if needed\n",
    "    )\n",
    "\n",
    "    # Filter the columns based on 'gene_name_overlap'\n",
    "    gene_exp_slide_filtered = gene_exp_slide.loc[:, gene_name_overlap]\n",
    "\n",
    "    if gene_exp is None:\n",
    "        gene_exp = gene_exp_slide_filtered\n",
    "    else:\n",
    "        gene_exp = dd.concat([gene_exp, gene_exp_slide_filtered])\n",
    "\n",
    "# Compute the Dask DataFrame (if needed)\n",
    "gene_exp = gene_exp.compute()"
   ]
  },
  {
   "cell_type": "code",
   "execution_count": null,
   "metadata": {},
   "outputs": [],
   "source": []
  }
 ],
 "metadata": {
  "kernelspec": {
   "display_name": "base",
   "language": "python",
   "name": "python3"
  },
  "language_info": {
   "codemirror_mode": {
    "name": "ipython",
    "version": 3
   },
   "file_extension": ".py",
   "mimetype": "text/x-python",
   "name": "python",
   "nbconvert_exporter": "python",
   "pygments_lexer": "ipython3",
   "version": "3.10.14"
  }
 },
 "nbformat": 4,
 "nbformat_minor": 2
}
