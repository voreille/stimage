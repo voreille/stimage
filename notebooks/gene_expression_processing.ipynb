{
 "cells": [
  {
   "cell_type": "code",
   "execution_count": null,
   "metadata": {},
   "outputs": [],
   "source": [
    "import pandas as pd\n",
    "import scanpy as sc\n",
    "import numpy as np\n",
    "import matplotlib.pyplot as plt\n",
    "import seaborn as sns\n",
    "\n",
    "\n",
    "meta = pd.read_csv('/workspaces/stimage/data/meta_all_gene.csv')\n",
    "path = '/workspaces/stimage/data/raw'\n",
    "\n",
    "data = meta.loc[(meta['species'] == 'human') & (meta['tissue'] == 'lung'),:]\n",
    "\n",
    "# load data\n",
    "i = 1\n",
    "slide = data['slide'][i]\n",
    "gene_exp_slide = pd.read_csv(f'{path}/{data.tech[i]}/gene_exp/{data.slide[i]}_count.csv',sep=',',index_col=0)\n",
    "adata = sc.AnnData(gene_exp_slide)\n",
    "adata.var_names_make_unique()\n",
    "\n",
    "sc.pp.filter_cells(adata, min_genes=1)\n",
    "sc.experimental.pp.highly_variable_genes(adata, n_top_genes=128)"
   ]
  },
  {
   "cell_type": "code",
   "execution_count": 3,
   "metadata": {},
   "outputs": [],
   "source": [
    "data = meta.loc[(meta['species'] == 'human') & (meta['tissue'] == 'lung'),:]"
   ]
  },
  {
   "cell_type": "code",
   "execution_count": 6,
   "metadata": {},
   "outputs": [
    {
     "data": {
      "text/html": [
       "<div>\n",
       "<style scoped>\n",
       "    .dataframe tbody tr th:only-of-type {\n",
       "        vertical-align: middle;\n",
       "    }\n",
       "\n",
       "    .dataframe tbody tr th {\n",
       "        vertical-align: top;\n",
       "    }\n",
       "\n",
       "    .dataframe thead th {\n",
       "        text-align: right;\n",
       "    }\n",
       "</style>\n",
       "<table border=\"1\" class=\"dataframe\">\n",
       "  <thead>\n",
       "    <tr style=\"text-align: right;\">\n",
       "      <th></th>\n",
       "      <th>slide</th>\n",
       "      <th>species</th>\n",
       "      <th>tissue</th>\n",
       "      <th>pmid</th>\n",
       "      <th>title</th>\n",
       "      <th>abstract</th>\n",
       "      <th>keywords</th>\n",
       "      <th>involve_cancer</th>\n",
       "      <th>tech</th>\n",
       "      <th>spot_num</th>\n",
       "      <th>gene_num</th>\n",
       "    </tr>\n",
       "  </thead>\n",
       "  <tbody>\n",
       "    <tr>\n",
       "      <th>220</th>\n",
       "      <td>GSE178361_GSM5388414</td>\n",
       "      <td>human</td>\n",
       "      <td>lung</td>\n",
       "      <td>35355018</td>\n",
       "      <td>Human distal lung maps and lineage hierarchies...</td>\n",
       "      <td>Mapping the spatial distribution and molecular...</td>\n",
       "      <td>NaN</td>\n",
       "      <td>False</td>\n",
       "      <td>Visium</td>\n",
       "      <td>1175</td>\n",
       "      <td>36601</td>\n",
       "    </tr>\n",
       "    <tr>\n",
       "      <th>221</th>\n",
       "      <td>GSE178361_GSM5388415</td>\n",
       "      <td>human</td>\n",
       "      <td>lung</td>\n",
       "      <td>35355018</td>\n",
       "      <td>Human distal lung maps and lineage hierarchies...</td>\n",
       "      <td>Mapping the spatial distribution and molecular...</td>\n",
       "      <td>NaN</td>\n",
       "      <td>False</td>\n",
       "      <td>Visium</td>\n",
       "      <td>1045</td>\n",
       "      <td>36601</td>\n",
       "    </tr>\n",
       "    <tr>\n",
       "      <th>1101</th>\n",
       "      <td>Human_Lung_10X_02132023_Visium</td>\n",
       "      <td>human</td>\n",
       "      <td>lung</td>\n",
       "      <td>NaN</td>\n",
       "      <td>NaN</td>\n",
       "      <td>NaN</td>\n",
       "      <td>NaN</td>\n",
       "      <td>False</td>\n",
       "      <td>Visium</td>\n",
       "      <td>6195</td>\n",
       "      <td>18085</td>\n",
       "    </tr>\n",
       "    <tr>\n",
       "      <th>1102</th>\n",
       "      <td>Human_Lung_10X_07132022_Visium</td>\n",
       "      <td>human</td>\n",
       "      <td>lung</td>\n",
       "      <td>NaN</td>\n",
       "      <td>NaN</td>\n",
       "      <td>NaN</td>\n",
       "      <td>NaN</td>\n",
       "      <td>False</td>\n",
       "      <td>Visium</td>\n",
       "      <td>3858</td>\n",
       "      <td>18085</td>\n",
       "    </tr>\n",
       "    <tr>\n",
       "      <th>1146</th>\n",
       "      <td>Human_Lung_10X_03292024_VisiumHD</td>\n",
       "      <td>human</td>\n",
       "      <td>lung</td>\n",
       "      <td>NaN</td>\n",
       "      <td>NaN</td>\n",
       "      <td>NaN</td>\n",
       "      <td>NaN</td>\n",
       "      <td>False</td>\n",
       "      <td>VisiumHD</td>\n",
       "      <td>605471</td>\n",
       "      <td>18085</td>\n",
       "    </tr>\n",
       "  </tbody>\n",
       "</table>\n",
       "</div>"
      ],
      "text/plain": [
       "                                 slide species tissue      pmid  \\\n",
       "220               GSE178361_GSM5388414   human   lung  35355018   \n",
       "221               GSE178361_GSM5388415   human   lung  35355018   \n",
       "1101    Human_Lung_10X_02132023_Visium   human   lung       NaN   \n",
       "1102    Human_Lung_10X_07132022_Visium   human   lung       NaN   \n",
       "1146  Human_Lung_10X_03292024_VisiumHD   human   lung       NaN   \n",
       "\n",
       "                                                  title  \\\n",
       "220   Human distal lung maps and lineage hierarchies...   \n",
       "221   Human distal lung maps and lineage hierarchies...   \n",
       "1101                                                NaN   \n",
       "1102                                                NaN   \n",
       "1146                                                NaN   \n",
       "\n",
       "                                               abstract keywords  \\\n",
       "220   Mapping the spatial distribution and molecular...      NaN   \n",
       "221   Mapping the spatial distribution and molecular...      NaN   \n",
       "1101                                                NaN      NaN   \n",
       "1102                                                NaN      NaN   \n",
       "1146                                                NaN      NaN   \n",
       "\n",
       "      involve_cancer      tech  spot_num  gene_num  \n",
       "220            False    Visium      1175     36601  \n",
       "221            False    Visium      1045     36601  \n",
       "1101           False    Visium      6195     18085  \n",
       "1102           False    Visium      3858     18085  \n",
       "1146           False  VisiumHD    605471     18085  "
      ]
     },
     "execution_count": 6,
     "metadata": {},
     "output_type": "execute_result"
    }
   ],
   "source": [
    "data"
   ]
  },
  {
   "cell_type": "code",
   "execution_count": 2,
   "metadata": {},
   "outputs": [],
   "source": [
    "# sort genes by highly_variable\n",
    "adata.var_names_make_unique()\n",
    "hvg_list = adata.var['highly_variable_rank']\n",
    "hvg_list = hvg_list.sort_values()\n",
    "hvg_list = hvg_list.dropna()\n",
    "\n",
    "adata_hvg = adata[:, hvg_list.index]"
   ]
  },
  {
   "cell_type": "code",
   "execution_count": null,
   "metadata": {},
   "outputs": [],
   "source": [
    "array = np.array(adata_hvg.X)"
   ]
  },
  {
   "cell_type": "code",
   "execution_count": null,
   "metadata": {},
   "outputs": [],
   "source": [
    "plt.figure(figsize=(8, 6))  # Optional: set figure size\n",
    "plt.hist(array[:,1], bins=30, edgecolor='k', alpha=0.7)  # Plot histogram\n",
    "plt.title(f'Distribution of Feature {i}')\n",
    "plt.xlabel('Value')\n",
    "plt.ylabel('Frequency')\n",
    "plt.grid(True)  # Optional: add grid\n",
    "plt.show()\n"
   ]
  },
  {
   "cell_type": "code",
   "execution_count": null,
   "metadata": {},
   "outputs": [],
   "source": [
    "array.shape"
   ]
  },
  {
   "cell_type": "code",
   "execution_count": null,
   "metadata": {},
   "outputs": [],
   "source": [
    "# Create heatmap\n",
    "sns.clustermap(array.T, cmap=\"viridis\", figsize=(10, 10))\n",
    "plt.show()\n"
   ]
  },
  {
   "cell_type": "code",
   "execution_count": null,
   "metadata": {},
   "outputs": [],
   "source": [
    "sc.pp.normalize_total(adata_hvg)\n",
    "sc.pp.log1p(adata_hvg)\n",
    "hvg = adata_hvg.X\n",
    "hvg = pd.DataFrame(hvg)\n",
    "hvg.index = adata_hvg.obs.index"
   ]
  },
  {
   "cell_type": "code",
   "execution_count": null,
   "metadata": {},
   "outputs": [],
   "source": [
    "sns.clustermap(np.array(hvg).T, cmap=\"viridis\", figsize=(10, 10))\n",
    "plt.show()"
   ]
  },
  {
   "cell_type": "code",
   "execution_count": null,
   "metadata": {},
   "outputs": [],
   "source": []
  }
 ],
 "metadata": {
  "kernelspec": {
   "display_name": "base",
   "language": "python",
   "name": "python3"
  },
  "language_info": {
   "codemirror_mode": {
    "name": "ipython",
    "version": 3
   },
   "file_extension": ".py",
   "mimetype": "text/x-python",
   "name": "python",
   "nbconvert_exporter": "python",
   "pygments_lexer": "ipython3",
   "version": "3.10.14"
  }
 },
 "nbformat": 4,
 "nbformat_minor": 2
}
