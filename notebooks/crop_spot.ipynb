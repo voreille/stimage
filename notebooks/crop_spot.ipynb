{
 "cells": [
  {
   "cell_type": "code",
   "execution_count": 1,
   "metadata": {},
   "outputs": [],
   "source": [
    "import sys\n",
    "import pandas as pd\n",
    "from PIL import Image\n",
    "import matplotlib.pyplot as plt\n",
    "\n",
    "Image.MAX_IMAGE_PIXELS = 3080000000000000000000000000000000000\n",
    "\n",
    "\n",
    "def crop_image_all(path, slide):\n",
    "    # We note here that although\n",
    "    temp_image = Image.open(f'{path}/image/{slide}.png')\n",
    "    temp_image = temp_image.convert('RGB')\n",
    "    coord = pd.read_csv(f'{path}/coord/{slide}_coord.csv')\n",
    "    r = coord.r[0]\n",
    "    for i in range(len(coord.index)):\n",
    "        yaxis = coord.yaxis[i]\n",
    "        xaxis = coord.xaxis[i]\n",
    "        spot_name = coord.iloc[i, 0]\n",
    "        temp_image_crop = temp_image.crop(\n",
    "            (xaxis - r, yaxis - r, xaxis + r, yaxis + r))\n",
    "        temp_image_crop.save(f\"/workspaces/stimage/data/processed/crop/{spot_name}.png\")\n",
    "        #plt.scatter(xaxis,yaxis,c='r')\n"
   ]
  },
  {
   "cell_type": "code",
   "execution_count": 2,
   "metadata": {},
   "outputs": [],
   "source": [
    "index = 1\n",
    "meta = pd.read_csv('/workspaces/stimage/data/meta_all_gene.csv')\n",
    "\n",
    "slide = meta.slide[index]\n",
    "tech = meta.tech[index]\n",
    "\n",
    "path = f'/workspaces/stimage/data/raw/{tech}'\n",
    "crop_image_all(path, slide)"
   ]
  },
  {
   "cell_type": "code",
   "execution_count": null,
   "metadata": {},
   "outputs": [],
   "source": []
  }
 ],
 "metadata": {
  "kernelspec": {
   "display_name": "base",
   "language": "python",
   "name": "python3"
  },
  "language_info": {
   "codemirror_mode": {
    "name": "ipython",
    "version": 3
   },
   "file_extension": ".py",
   "mimetype": "text/x-python",
   "name": "python",
   "nbconvert_exporter": "python",
   "pygments_lexer": "ipython3",
   "version": "3.10.14"
  }
 },
 "nbformat": 4,
 "nbformat_minor": 2
}
