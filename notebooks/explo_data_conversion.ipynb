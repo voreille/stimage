{
 "cells": [
  {
   "cell_type": "code",
   "execution_count": null,
   "metadata": {},
   "outputs": [],
   "source": [
    "import polars as pl\n",
    "import pandas as pd\n",
    "import scanpy as sc\n",
    "from tqdm import tqdm\n"
   ]
  },
  {
   "cell_type": "code",
   "execution_count": null,
   "metadata": {},
   "outputs": [],
   "source": [
    "meta = pd.read_csv('/workspaces/stimage/data/meta_all_gene.csv')\n",
    "path = \"/workspaces/stimage/data/raw\""
   ]
  },
  {
   "cell_type": "code",
   "execution_count": 10,
   "metadata": {},
   "outputs": [
    {
     "name": "stdout",
     "output_type": "stream",
     "text": [
      "0\n",
      "1\n",
      "2\n",
      "3\n",
      "4\n"
     ]
    }
   ],
   "source": [
    "data = meta.loc[(meta['species'] == 'human') & (meta['tissue'] == 'lung'), :]\n",
    "data.index = range(len(data.index))\n",
    "\n",
    "for i in range(len(data.index)):\n",
    "    gene_exp_slide = pd.read_csv(\n",
    "        f'{path}/{data.tech[i]}/gene_exp/{data.slide[i]}_count.csv',\n",
    "        sep=',',\n",
    "        nrows=1,\n",
    "        index_col=0)\n",
    "    if i == 0:\n",
    "        gene_name_overlap = gene_exp_slide.columns\n",
    "    else:\n",
    "        gene_name_overlap = gene_name_overlap.intersection(\n",
    "            gene_exp_slide.columns)\n",
    "    print(i)\n"
   ]
  },
  {
   "cell_type": "code",
   "execution_count": 11,
   "metadata": {},
   "outputs": [
    {
     "data": {
      "text/html": [
       "<div>\n",
       "<style scoped>\n",
       "    .dataframe tbody tr th:only-of-type {\n",
       "        vertical-align: middle;\n",
       "    }\n",
       "\n",
       "    .dataframe tbody tr th {\n",
       "        vertical-align: top;\n",
       "    }\n",
       "\n",
       "    .dataframe thead th {\n",
       "        text-align: right;\n",
       "    }\n",
       "</style>\n",
       "<table border=\"1\" class=\"dataframe\">\n",
       "  <thead>\n",
       "    <tr style=\"text-align: right;\">\n",
       "      <th></th>\n",
       "      <th>SAMD11</th>\n",
       "      <th>NOC2L</th>\n",
       "      <th>KLHL17</th>\n",
       "      <th>PLEKHN1</th>\n",
       "      <th>PERM1</th>\n",
       "      <th>HES4</th>\n",
       "      <th>ISG15</th>\n",
       "      <th>AGRN</th>\n",
       "      <th>RNF223</th>\n",
       "      <th>C1orf159</th>\n",
       "      <th>...</th>\n",
       "      <th>MT-ND2</th>\n",
       "      <th>MT-CO2</th>\n",
       "      <th>MT-ATP6</th>\n",
       "      <th>MT-CO3</th>\n",
       "      <th>MT-ND3</th>\n",
       "      <th>MT-ND4L</th>\n",
       "      <th>MT-ND4</th>\n",
       "      <th>MT-ND5</th>\n",
       "      <th>MT-ND6</th>\n",
       "      <th>MT-CYB</th>\n",
       "    </tr>\n",
       "  </thead>\n",
       "  <tbody>\n",
       "    <tr>\n",
       "      <th>Human_Lung_10X_03292024_VisiumHD_s_008um_00301_00321-1</th>\n",
       "      <td>0.0</td>\n",
       "      <td>0.0</td>\n",
       "      <td>0.0</td>\n",
       "      <td>0.0</td>\n",
       "      <td>0.0</td>\n",
       "      <td>0.0</td>\n",
       "      <td>0.0</td>\n",
       "      <td>0.0</td>\n",
       "      <td>0.0</td>\n",
       "      <td>0.0</td>\n",
       "      <td>...</td>\n",
       "      <td>7.0</td>\n",
       "      <td>1.0</td>\n",
       "      <td>1.0</td>\n",
       "      <td>1.0</td>\n",
       "      <td>1.0</td>\n",
       "      <td>2.0</td>\n",
       "      <td>1.0</td>\n",
       "      <td>2.0</td>\n",
       "      <td>0.0</td>\n",
       "      <td>2.0</td>\n",
       "    </tr>\n",
       "  </tbody>\n",
       "</table>\n",
       "<p>1 rows × 18085 columns</p>\n",
       "</div>"
      ],
      "text/plain": [
       "                                                    SAMD11  NOC2L  KLHL17  \\\n",
       "Human_Lung_10X_03292024_VisiumHD_s_008um_00301_...     0.0    0.0     0.0   \n",
       "\n",
       "                                                    PLEKHN1  PERM1  HES4  \\\n",
       "Human_Lung_10X_03292024_VisiumHD_s_008um_00301_...      0.0    0.0   0.0   \n",
       "\n",
       "                                                    ISG15  AGRN  RNF223  \\\n",
       "Human_Lung_10X_03292024_VisiumHD_s_008um_00301_...    0.0   0.0     0.0   \n",
       "\n",
       "                                                    C1orf159  ...  MT-ND2  \\\n",
       "Human_Lung_10X_03292024_VisiumHD_s_008um_00301_...       0.0  ...     7.0   \n",
       "\n",
       "                                                    MT-CO2  MT-ATP6  MT-CO3  \\\n",
       "Human_Lung_10X_03292024_VisiumHD_s_008um_00301_...     1.0      1.0     1.0   \n",
       "\n",
       "                                                    MT-ND3  MT-ND4L  MT-ND4  \\\n",
       "Human_Lung_10X_03292024_VisiumHD_s_008um_00301_...     1.0      2.0     1.0   \n",
       "\n",
       "                                                    MT-ND5  MT-ND6  MT-CYB  \n",
       "Human_Lung_10X_03292024_VisiumHD_s_008um_00301_...     2.0     0.0     2.0  \n",
       "\n",
       "[1 rows x 18085 columns]"
      ]
     },
     "execution_count": 11,
     "metadata": {},
     "output_type": "execute_result"
    }
   ],
   "source": [
    "gene_exp_slide"
   ]
  },
  {
   "cell_type": "code",
   "execution_count": null,
   "metadata": {},
   "outputs": [],
   "source": [
    "data = data.iloc[:-1]\n",
    "print(data)"
   ]
  },
  {
   "cell_type": "code",
   "execution_count": 6,
   "metadata": {},
   "outputs": [],
   "source": [
    "# Function to read and process a single CSV file\n",
    "def read_csv_file(file_path, image_id):\n",
    "    df = pl.read_csv(file_path)\n",
    "    df = df.with_columns(pl.lit(image_id).alias('image_id'))\n",
    "    return df"
   ]
  },
  {
   "cell_type": "code",
   "execution_count": 7,
   "metadata": {},
   "outputs": [
    {
     "name": "stderr",
     "output_type": "stream",
     "text": [
      "Reading slides: 100%|██████████| 4/4 [00:13<00:00,  3.42s/it]\n"
     ]
    }
   ],
   "source": [
    "# Read and concatenate all relevant CSV files\n",
    "dfs = []\n",
    "for index in tqdm(range(len(data)), desc=\"Reading slides\"):\n",
    "    slide = data['slide'].iloc[index]\n",
    "    tech = data['tech'].iloc[index]\n",
    "\n",
    "    # Construct the file path\n",
    "    file_path = f'/workspaces/stimage/data/raw/{tech}/gene_exp/{slide}_count.csv'\n",
    "\n",
    "    df = read_csv_file(file_path, slide)\n",
    "    dfs.append(df)\n"
   ]
  },
  {
   "cell_type": "code",
   "execution_count": 9,
   "metadata": {},
   "outputs": [
    {
     "data": {
      "text/html": [
       "<div><style>\n",
       ".dataframe > thead > tr,\n",
       ".dataframe > tbody > tr {\n",
       "  text-align: right;\n",
       "  white-space: pre-wrap;\n",
       "}\n",
       "</style>\n",
       "<small>shape: (3_858, 18_087)</small><table border=\"1\" class=\"dataframe\"><thead><tr><th></th><th>SAMD11</th><th>NOC2L</th><th>KLHL17</th><th>PLEKHN1</th><th>PERM1</th><th>HES4</th><th>ISG15</th><th>AGRN</th><th>RNF223</th><th>C1orf159</th><th>TTLL10</th><th>TNFRSF18</th><th>TNFRSF4</th><th>SDF4</th><th>B3GALT6</th><th>C1QTNF12</th><th>UBE2J2</th><th>SCNN1D</th><th>ACAP3</th><th>PUSL1</th><th>INTS11</th><th>CPTP</th><th>TAS1R3</th><th>DVL1</th><th>MXRA8</th><th>AURKAIP1</th><th>CCNL2</th><th>ANKRD65</th><th>TMEM88B</th><th>VWA1</th><th>ATAD3C</th><th>ATAD3B</th><th>ATAD3A</th><th>TMEM240</th><th>SSU72</th><th>FNDC10</th><th>&hellip;</th><th>BRCC3</th><th>VBP1</th><th>RAB39B</th><th>CLIC2</th><th>TMLHE</th><th>SPRY3</th><th>VAMP7</th><th>IL9R</th><th>SRY</th><th>ZFY</th><th>TGIF2LY</th><th>PCDH11Y</th><th>AMELY</th><th>TBL1Y</th><th>PRKY</th><th>TSPY1</th><th>USP9Y</th><th>DDX3Y</th><th>UTY</th><th>TMSB4Y</th><th>NLGN4Y</th><th>AC007244.1</th><th>KDM5D</th><th>EIF1AY</th><th>DAZ2</th><th>MT-ND1</th><th>MT-ND2</th><th>MT-CO2</th><th>MT-ATP6</th><th>MT-CO3</th><th>MT-ND3</th><th>MT-ND4L</th><th>MT-ND4</th><th>MT-ND5</th><th>MT-ND6</th><th>MT-CYB</th><th>image_id</th></tr><tr><td>str</td><td>f64</td><td>f64</td><td>f64</td><td>f64</td><td>f64</td><td>f64</td><td>f64</td><td>f64</td><td>f64</td><td>f64</td><td>f64</td><td>f64</td><td>f64</td><td>f64</td><td>f64</td><td>f64</td><td>f64</td><td>f64</td><td>f64</td><td>f64</td><td>f64</td><td>f64</td><td>f64</td><td>f64</td><td>f64</td><td>f64</td><td>f64</td><td>f64</td><td>f64</td><td>f64</td><td>f64</td><td>f64</td><td>f64</td><td>f64</td><td>f64</td><td>f64</td><td>&hellip;</td><td>f64</td><td>f64</td><td>f64</td><td>f64</td><td>f64</td><td>f64</td><td>f64</td><td>f64</td><td>f64</td><td>f64</td><td>f64</td><td>f64</td><td>f64</td><td>f64</td><td>f64</td><td>f64</td><td>f64</td><td>f64</td><td>f64</td><td>f64</td><td>f64</td><td>f64</td><td>f64</td><td>f64</td><td>f64</td><td>f64</td><td>f64</td><td>f64</td><td>f64</td><td>f64</td><td>f64</td><td>f64</td><td>f64</td><td>f64</td><td>f64</td><td>f64</td><td>str</td></tr></thead><tbody><tr><td>&quot;Human_Lung_10X_07132022_Visium…</td><td>0.0</td><td>0.0</td><td>0.0</td><td>0.0</td><td>0.0</td><td>0.0</td><td>0.0</td><td>0.0</td><td>0.0</td><td>0.0</td><td>0.0</td><td>0.0</td><td>0.0</td><td>0.0</td><td>0.0</td><td>0.0</td><td>0.0</td><td>0.0</td><td>0.0</td><td>0.0</td><td>0.0</td><td>0.0</td><td>0.0</td><td>0.0</td><td>0.0</td><td>0.0</td><td>1.0</td><td>0.0</td><td>0.0</td><td>0.0</td><td>0.0</td><td>0.0</td><td>0.0</td><td>0.0</td><td>0.0</td><td>0.0</td><td>&hellip;</td><td>0.0</td><td>0.0</td><td>0.0</td><td>0.0</td><td>0.0</td><td>0.0</td><td>0.0</td><td>0.0</td><td>0.0</td><td>0.0</td><td>0.0</td><td>0.0</td><td>0.0</td><td>0.0</td><td>0.0</td><td>0.0</td><td>0.0</td><td>0.0</td><td>0.0</td><td>0.0</td><td>0.0</td><td>0.0</td><td>1.0</td><td>0.0</td><td>0.0</td><td>0.0</td><td>0.0</td><td>3.0</td><td>0.0</td><td>0.0</td><td>1.0</td><td>2.0</td><td>0.0</td><td>0.0</td><td>0.0</td><td>0.0</td><td>&quot;Human_Lung_10X_07132022_Visium&quot;</td></tr><tr><td>&quot;Human_Lung_10X_07132022_Visium…</td><td>0.0</td><td>1.0</td><td>0.0</td><td>0.0</td><td>0.0</td><td>0.0</td><td>3.0</td><td>2.0</td><td>0.0</td><td>0.0</td><td>0.0</td><td>2.0</td><td>0.0</td><td>5.0</td><td>0.0</td><td>0.0</td><td>2.0</td><td>0.0</td><td>4.0</td><td>1.0</td><td>5.0</td><td>1.0</td><td>0.0</td><td>2.0</td><td>0.0</td><td>5.0</td><td>14.0</td><td>0.0</td><td>0.0</td><td>1.0</td><td>0.0</td><td>3.0</td><td>0.0</td><td>0.0</td><td>2.0</td><td>0.0</td><td>&hellip;</td><td>2.0</td><td>1.0</td><td>0.0</td><td>0.0</td><td>0.0</td><td>0.0</td><td>3.0</td><td>0.0</td><td>0.0</td><td>0.0</td><td>0.0</td><td>0.0</td><td>0.0</td><td>0.0</td><td>0.0</td><td>0.0</td><td>0.0</td><td>0.0</td><td>1.0</td><td>0.0</td><td>0.0</td><td>0.0</td><td>0.0</td><td>0.0</td><td>0.0</td><td>24.0</td><td>23.0</td><td>24.0</td><td>18.0</td><td>37.0</td><td>8.0</td><td>31.0</td><td>36.0</td><td>9.0</td><td>26.0</td><td>30.0</td><td>&quot;Human_Lung_10X_07132022_Visium&quot;</td></tr><tr><td>&quot;Human_Lung_10X_07132022_Visium…</td><td>0.0</td><td>0.0</td><td>0.0</td><td>0.0</td><td>0.0</td><td>3.0</td><td>1.0</td><td>5.0</td><td>0.0</td><td>1.0</td><td>0.0</td><td>1.0</td><td>0.0</td><td>0.0</td><td>0.0</td><td>0.0</td><td>0.0</td><td>0.0</td><td>3.0</td><td>1.0</td><td>1.0</td><td>0.0</td><td>0.0</td><td>3.0</td><td>3.0</td><td>2.0</td><td>10.0</td><td>0.0</td><td>0.0</td><td>0.0</td><td>0.0</td><td>0.0</td><td>0.0</td><td>0.0</td><td>1.0</td><td>0.0</td><td>&hellip;</td><td>1.0</td><td>0.0</td><td>0.0</td><td>0.0</td><td>1.0</td><td>0.0</td><td>0.0</td><td>0.0</td><td>0.0</td><td>0.0</td><td>0.0</td><td>0.0</td><td>0.0</td><td>0.0</td><td>0.0</td><td>0.0</td><td>1.0</td><td>2.0</td><td>2.0</td><td>0.0</td><td>0.0</td><td>0.0</td><td>2.0</td><td>0.0</td><td>0.0</td><td>16.0</td><td>10.0</td><td>11.0</td><td>19.0</td><td>14.0</td><td>6.0</td><td>12.0</td><td>13.0</td><td>9.0</td><td>11.0</td><td>8.0</td><td>&quot;Human_Lung_10X_07132022_Visium&quot;</td></tr><tr><td>&quot;Human_Lung_10X_07132022_Visium…</td><td>0.0</td><td>0.0</td><td>0.0</td><td>0.0</td><td>0.0</td><td>0.0</td><td>0.0</td><td>4.0</td><td>0.0</td><td>0.0</td><td>0.0</td><td>2.0</td><td>0.0</td><td>4.0</td><td>0.0</td><td>0.0</td><td>0.0</td><td>0.0</td><td>3.0</td><td>0.0</td><td>3.0</td><td>1.0</td><td>0.0</td><td>0.0</td><td>0.0</td><td>2.0</td><td>8.0</td><td>0.0</td><td>0.0</td><td>1.0</td><td>0.0</td><td>1.0</td><td>0.0</td><td>0.0</td><td>3.0</td><td>0.0</td><td>&hellip;</td><td>0.0</td><td>0.0</td><td>0.0</td><td>0.0</td><td>3.0</td><td>0.0</td><td>2.0</td><td>0.0</td><td>0.0</td><td>0.0</td><td>0.0</td><td>0.0</td><td>0.0</td><td>0.0</td><td>0.0</td><td>0.0</td><td>1.0</td><td>1.0</td><td>1.0</td><td>0.0</td><td>0.0</td><td>0.0</td><td>1.0</td><td>0.0</td><td>0.0</td><td>28.0</td><td>44.0</td><td>63.0</td><td>53.0</td><td>81.0</td><td>13.0</td><td>70.0</td><td>91.0</td><td>18.0</td><td>24.0</td><td>26.0</td><td>&quot;Human_Lung_10X_07132022_Visium&quot;</td></tr><tr><td>&quot;Human_Lung_10X_07132022_Visium…</td><td>0.0</td><td>0.0</td><td>0.0</td><td>0.0</td><td>0.0</td><td>2.0</td><td>1.0</td><td>2.0</td><td>0.0</td><td>0.0</td><td>0.0</td><td>1.0</td><td>1.0</td><td>0.0</td><td>0.0</td><td>0.0</td><td>0.0</td><td>0.0</td><td>1.0</td><td>0.0</td><td>1.0</td><td>0.0</td><td>0.0</td><td>0.0</td><td>1.0</td><td>0.0</td><td>9.0</td><td>0.0</td><td>0.0</td><td>2.0</td><td>0.0</td><td>0.0</td><td>0.0</td><td>0.0</td><td>0.0</td><td>0.0</td><td>&hellip;</td><td>2.0</td><td>0.0</td><td>0.0</td><td>0.0</td><td>0.0</td><td>0.0</td><td>0.0</td><td>0.0</td><td>0.0</td><td>0.0</td><td>0.0</td><td>0.0</td><td>0.0</td><td>0.0</td><td>0.0</td><td>0.0</td><td>0.0</td><td>0.0</td><td>0.0</td><td>0.0</td><td>0.0</td><td>0.0</td><td>0.0</td><td>0.0</td><td>0.0</td><td>10.0</td><td>10.0</td><td>9.0</td><td>7.0</td><td>14.0</td><td>5.0</td><td>17.0</td><td>9.0</td><td>10.0</td><td>11.0</td><td>12.0</td><td>&quot;Human_Lung_10X_07132022_Visium&quot;</td></tr><tr><td>&hellip;</td><td>&hellip;</td><td>&hellip;</td><td>&hellip;</td><td>&hellip;</td><td>&hellip;</td><td>&hellip;</td><td>&hellip;</td><td>&hellip;</td><td>&hellip;</td><td>&hellip;</td><td>&hellip;</td><td>&hellip;</td><td>&hellip;</td><td>&hellip;</td><td>&hellip;</td><td>&hellip;</td><td>&hellip;</td><td>&hellip;</td><td>&hellip;</td><td>&hellip;</td><td>&hellip;</td><td>&hellip;</td><td>&hellip;</td><td>&hellip;</td><td>&hellip;</td><td>&hellip;</td><td>&hellip;</td><td>&hellip;</td><td>&hellip;</td><td>&hellip;</td><td>&hellip;</td><td>&hellip;</td><td>&hellip;</td><td>&hellip;</td><td>&hellip;</td><td>&hellip;</td><td>&hellip;</td><td>&hellip;</td><td>&hellip;</td><td>&hellip;</td><td>&hellip;</td><td>&hellip;</td><td>&hellip;</td><td>&hellip;</td><td>&hellip;</td><td>&hellip;</td><td>&hellip;</td><td>&hellip;</td><td>&hellip;</td><td>&hellip;</td><td>&hellip;</td><td>&hellip;</td><td>&hellip;</td><td>&hellip;</td><td>&hellip;</td><td>&hellip;</td><td>&hellip;</td><td>&hellip;</td><td>&hellip;</td><td>&hellip;</td><td>&hellip;</td><td>&hellip;</td><td>&hellip;</td><td>&hellip;</td><td>&hellip;</td><td>&hellip;</td><td>&hellip;</td><td>&hellip;</td><td>&hellip;</td><td>&hellip;</td><td>&hellip;</td><td>&hellip;</td><td>&hellip;</td><td>&hellip;</td></tr><tr><td>&quot;Human_Lung_10X_07132022_Visium…</td><td>0.0</td><td>1.0</td><td>0.0</td><td>0.0</td><td>0.0</td><td>1.0</td><td>1.0</td><td>5.0</td><td>0.0</td><td>0.0</td><td>0.0</td><td>0.0</td><td>0.0</td><td>3.0</td><td>0.0</td><td>0.0</td><td>0.0</td><td>0.0</td><td>3.0</td><td>0.0</td><td>4.0</td><td>1.0</td><td>0.0</td><td>1.0</td><td>1.0</td><td>2.0</td><td>11.0</td><td>0.0</td><td>0.0</td><td>1.0</td><td>0.0</td><td>0.0</td><td>0.0</td><td>0.0</td><td>1.0</td><td>0.0</td><td>&hellip;</td><td>0.0</td><td>1.0</td><td>0.0</td><td>0.0</td><td>0.0</td><td>0.0</td><td>1.0</td><td>0.0</td><td>0.0</td><td>0.0</td><td>0.0</td><td>0.0</td><td>0.0</td><td>0.0</td><td>0.0</td><td>0.0</td><td>0.0</td><td>1.0</td><td>0.0</td><td>0.0</td><td>0.0</td><td>0.0</td><td>0.0</td><td>0.0</td><td>0.0</td><td>14.0</td><td>19.0</td><td>20.0</td><td>25.0</td><td>32.0</td><td>9.0</td><td>21.0</td><td>22.0</td><td>9.0</td><td>21.0</td><td>26.0</td><td>&quot;Human_Lung_10X_07132022_Visium&quot;</td></tr><tr><td>&quot;Human_Lung_10X_07132022_Visium…</td><td>0.0</td><td>4.0</td><td>0.0</td><td>2.0</td><td>0.0</td><td>1.0</td><td>3.0</td><td>12.0</td><td>0.0</td><td>0.0</td><td>0.0</td><td>0.0</td><td>0.0</td><td>6.0</td><td>0.0</td><td>0.0</td><td>1.0</td><td>1.0</td><td>7.0</td><td>1.0</td><td>9.0</td><td>1.0</td><td>0.0</td><td>5.0</td><td>0.0</td><td>5.0</td><td>40.0</td><td>2.0</td><td>0.0</td><td>0.0</td><td>1.0</td><td>1.0</td><td>0.0</td><td>0.0</td><td>2.0</td><td>0.0</td><td>&hellip;</td><td>1.0</td><td>1.0</td><td>1.0</td><td>0.0</td><td>2.0</td><td>0.0</td><td>0.0</td><td>0.0</td><td>0.0</td><td>0.0</td><td>0.0</td><td>0.0</td><td>0.0</td><td>0.0</td><td>0.0</td><td>0.0</td><td>0.0</td><td>0.0</td><td>1.0</td><td>0.0</td><td>0.0</td><td>0.0</td><td>0.0</td><td>0.0</td><td>0.0</td><td>47.0</td><td>54.0</td><td>152.0</td><td>77.0</td><td>170.0</td><td>20.0</td><td>167.0</td><td>160.0</td><td>32.0</td><td>57.0</td><td>63.0</td><td>&quot;Human_Lung_10X_07132022_Visium&quot;</td></tr><tr><td>&quot;Human_Lung_10X_07132022_Visium…</td><td>0.0</td><td>0.0</td><td>0.0</td><td>0.0</td><td>0.0</td><td>0.0</td><td>1.0</td><td>3.0</td><td>0.0</td><td>0.0</td><td>0.0</td><td>0.0</td><td>0.0</td><td>3.0</td><td>0.0</td><td>0.0</td><td>0.0</td><td>0.0</td><td>0.0</td><td>0.0</td><td>2.0</td><td>0.0</td><td>0.0</td><td>0.0</td><td>0.0</td><td>1.0</td><td>4.0</td><td>0.0</td><td>0.0</td><td>0.0</td><td>0.0</td><td>1.0</td><td>0.0</td><td>0.0</td><td>1.0</td><td>0.0</td><td>&hellip;</td><td>1.0</td><td>0.0</td><td>0.0</td><td>0.0</td><td>1.0</td><td>0.0</td><td>0.0</td><td>0.0</td><td>0.0</td><td>0.0</td><td>0.0</td><td>0.0</td><td>0.0</td><td>0.0</td><td>0.0</td><td>0.0</td><td>0.0</td><td>1.0</td><td>2.0</td><td>0.0</td><td>0.0</td><td>0.0</td><td>1.0</td><td>0.0</td><td>0.0</td><td>8.0</td><td>8.0</td><td>5.0</td><td>17.0</td><td>12.0</td><td>13.0</td><td>16.0</td><td>17.0</td><td>9.0</td><td>2.0</td><td>7.0</td><td>&quot;Human_Lung_10X_07132022_Visium&quot;</td></tr><tr><td>&quot;Human_Lung_10X_07132022_Visium…</td><td>0.0</td><td>1.0</td><td>0.0</td><td>0.0</td><td>0.0</td><td>1.0</td><td>0.0</td><td>3.0</td><td>0.0</td><td>1.0</td><td>0.0</td><td>0.0</td><td>0.0</td><td>6.0</td><td>0.0</td><td>0.0</td><td>1.0</td><td>0.0</td><td>1.0</td><td>0.0</td><td>7.0</td><td>0.0</td><td>0.0</td><td>1.0</td><td>0.0</td><td>1.0</td><td>15.0</td><td>2.0</td><td>0.0</td><td>1.0</td><td>0.0</td><td>2.0</td><td>0.0</td><td>0.0</td><td>1.0</td><td>0.0</td><td>&hellip;</td><td>2.0</td><td>1.0</td><td>0.0</td><td>0.0</td><td>1.0</td><td>0.0</td><td>0.0</td><td>0.0</td><td>0.0</td><td>0.0</td><td>0.0</td><td>0.0</td><td>0.0</td><td>0.0</td><td>0.0</td><td>0.0</td><td>0.0</td><td>0.0</td><td>0.0</td><td>0.0</td><td>0.0</td><td>0.0</td><td>0.0</td><td>0.0</td><td>0.0</td><td>23.0</td><td>13.0</td><td>15.0</td><td>15.0</td><td>31.0</td><td>8.0</td><td>34.0</td><td>26.0</td><td>3.0</td><td>21.0</td><td>16.0</td><td>&quot;Human_Lung_10X_07132022_Visium&quot;</td></tr><tr><td>&quot;Human_Lung_10X_07132022_Visium…</td><td>0.0</td><td>0.0</td><td>0.0</td><td>0.0</td><td>0.0</td><td>1.0</td><td>3.0</td><td>2.0</td><td>0.0</td><td>0.0</td><td>0.0</td><td>1.0</td><td>0.0</td><td>1.0</td><td>1.0</td><td>0.0</td><td>1.0</td><td>0.0</td><td>5.0</td><td>0.0</td><td>1.0</td><td>1.0</td><td>0.0</td><td>3.0</td><td>1.0</td><td>0.0</td><td>18.0</td><td>1.0</td><td>0.0</td><td>2.0</td><td>0.0</td><td>1.0</td><td>0.0</td><td>1.0</td><td>3.0</td><td>1.0</td><td>&hellip;</td><td>4.0</td><td>0.0</td><td>0.0</td><td>2.0</td><td>0.0</td><td>0.0</td><td>3.0</td><td>0.0</td><td>0.0</td><td>0.0</td><td>0.0</td><td>0.0</td><td>0.0</td><td>0.0</td><td>0.0</td><td>0.0</td><td>0.0</td><td>0.0</td><td>0.0</td><td>0.0</td><td>0.0</td><td>0.0</td><td>0.0</td><td>0.0</td><td>0.0</td><td>17.0</td><td>22.0</td><td>42.0</td><td>23.0</td><td>32.0</td><td>10.0</td><td>36.0</td><td>39.0</td><td>19.0</td><td>20.0</td><td>36.0</td><td>&quot;Human_Lung_10X_07132022_Visium&quot;</td></tr></tbody></table></div>"
      ],
      "text/plain": [
       "shape: (3_858, 18_087)\n",
       "┌────────────────────┬────────┬───────┬────────┬───┬────────┬────────┬────────┬────────────────────┐\n",
       "│                    ┆ SAMD11 ┆ NOC2L ┆ KLHL17 ┆ … ┆ MT-ND5 ┆ MT-ND6 ┆ MT-CYB ┆ image_id           │\n",
       "│ ---                ┆ ---    ┆ ---   ┆ ---    ┆   ┆ ---    ┆ ---    ┆ ---    ┆ ---                │\n",
       "│ str                ┆ f64    ┆ f64   ┆ f64    ┆   ┆ f64    ┆ f64    ┆ f64    ┆ str                │\n",
       "╞════════════════════╪════════╪═══════╪════════╪═══╪════════╪════════╪════════╪════════════════════╡\n",
       "│ Human_Lung_10X_071 ┆ 0.0    ┆ 0.0   ┆ 0.0    ┆ … ┆ 0.0    ┆ 0.0    ┆ 0.0    ┆ Human_Lung_10X_071 │\n",
       "│ 32022_Visium…      ┆        ┆       ┆        ┆   ┆        ┆        ┆        ┆ 32022_Visium       │\n",
       "│ Human_Lung_10X_071 ┆ 0.0    ┆ 1.0   ┆ 0.0    ┆ … ┆ 9.0    ┆ 26.0   ┆ 30.0   ┆ Human_Lung_10X_071 │\n",
       "│ 32022_Visium…      ┆        ┆       ┆        ┆   ┆        ┆        ┆        ┆ 32022_Visium       │\n",
       "│ Human_Lung_10X_071 ┆ 0.0    ┆ 0.0   ┆ 0.0    ┆ … ┆ 9.0    ┆ 11.0   ┆ 8.0    ┆ Human_Lung_10X_071 │\n",
       "│ 32022_Visium…      ┆        ┆       ┆        ┆   ┆        ┆        ┆        ┆ 32022_Visium       │\n",
       "│ Human_Lung_10X_071 ┆ 0.0    ┆ 0.0   ┆ 0.0    ┆ … ┆ 18.0   ┆ 24.0   ┆ 26.0   ┆ Human_Lung_10X_071 │\n",
       "│ 32022_Visium…      ┆        ┆       ┆        ┆   ┆        ┆        ┆        ┆ 32022_Visium       │\n",
       "│ Human_Lung_10X_071 ┆ 0.0    ┆ 0.0   ┆ 0.0    ┆ … ┆ 10.0   ┆ 11.0   ┆ 12.0   ┆ Human_Lung_10X_071 │\n",
       "│ 32022_Visium…      ┆        ┆       ┆        ┆   ┆        ┆        ┆        ┆ 32022_Visium       │\n",
       "│ …                  ┆ …      ┆ …     ┆ …      ┆ … ┆ …      ┆ …      ┆ …      ┆ …                  │\n",
       "│ Human_Lung_10X_071 ┆ 0.0    ┆ 1.0   ┆ 0.0    ┆ … ┆ 9.0    ┆ 21.0   ┆ 26.0   ┆ Human_Lung_10X_071 │\n",
       "│ 32022_Visium…      ┆        ┆       ┆        ┆   ┆        ┆        ┆        ┆ 32022_Visium       │\n",
       "│ Human_Lung_10X_071 ┆ 0.0    ┆ 4.0   ┆ 0.0    ┆ … ┆ 32.0   ┆ 57.0   ┆ 63.0   ┆ Human_Lung_10X_071 │\n",
       "│ 32022_Visium…      ┆        ┆       ┆        ┆   ┆        ┆        ┆        ┆ 32022_Visium       │\n",
       "│ Human_Lung_10X_071 ┆ 0.0    ┆ 0.0   ┆ 0.0    ┆ … ┆ 9.0    ┆ 2.0    ┆ 7.0    ┆ Human_Lung_10X_071 │\n",
       "│ 32022_Visium…      ┆        ┆       ┆        ┆   ┆        ┆        ┆        ┆ 32022_Visium       │\n",
       "│ Human_Lung_10X_071 ┆ 0.0    ┆ 1.0   ┆ 0.0    ┆ … ┆ 3.0    ┆ 21.0   ┆ 16.0   ┆ Human_Lung_10X_071 │\n",
       "│ 32022_Visium…      ┆        ┆       ┆        ┆   ┆        ┆        ┆        ┆ 32022_Visium       │\n",
       "│ Human_Lung_10X_071 ┆ 0.0    ┆ 0.0   ┆ 0.0    ┆ … ┆ 19.0   ┆ 20.0   ┆ 36.0   ┆ Human_Lung_10X_071 │\n",
       "│ 32022_Visium…      ┆        ┆       ┆        ┆   ┆        ┆        ┆        ┆ 32022_Visium       │\n",
       "└────────────────────┴────────┴───────┴────────┴───┴────────┴────────┴────────┴────────────────────┘"
      ]
     },
     "execution_count": 9,
     "metadata": {},
     "output_type": "execute_result"
    }
   ],
   "source": [
    "df"
   ]
  },
  {
   "cell_type": "code",
   "execution_count": 8,
   "metadata": {},
   "outputs": [
    {
     "ename": "ShapeError",
     "evalue": "unable to append to a DataFrame of width 36603 with a DataFrame of width 18087",
     "output_type": "error",
     "traceback": [
      "\u001b[0;31m---------------------------------------------------------------------------\u001b[0m",
      "\u001b[0;31mShapeError\u001b[0m                                Traceback (most recent call last)",
      "Cell \u001b[0;32mIn[8], line 1\u001b[0m\n\u001b[0;32m----> 1\u001b[0m combined_df \u001b[38;5;241m=\u001b[39m \u001b[43mpl\u001b[49m\u001b[38;5;241;43m.\u001b[39;49m\u001b[43mconcat\u001b[49m\u001b[43m(\u001b[49m\u001b[43mdfs\u001b[49m\u001b[43m)\u001b[49m\n\u001b[1;32m      3\u001b[0m \u001b[38;5;66;03m# Convert the combined Polars DataFrame to a pandas DataFrame\u001b[39;00m\n\u001b[1;32m      4\u001b[0m \u001b[38;5;66;03m# (necessary for creating AnnData object)\u001b[39;00m\n\u001b[1;32m      5\u001b[0m pd_df \u001b[38;5;241m=\u001b[39m combined_df\u001b[38;5;241m.\u001b[39mto_pandas()\n",
      "File \u001b[0;32m~/.local/lib/python3.10/site-packages/polars/functions/eager.py:182\u001b[0m, in \u001b[0;36mconcat\u001b[0;34m(items, how, rechunk, parallel)\u001b[0m\n\u001b[1;32m    180\u001b[0m \u001b[38;5;28;01mif\u001b[39;00m \u001b[38;5;28misinstance\u001b[39m(first, pl\u001b[38;5;241m.\u001b[39mDataFrame):\n\u001b[1;32m    181\u001b[0m     \u001b[38;5;28;01mif\u001b[39;00m how \u001b[38;5;241m==\u001b[39m \u001b[38;5;124m\"\u001b[39m\u001b[38;5;124mvertical\u001b[39m\u001b[38;5;124m\"\u001b[39m:\n\u001b[0;32m--> 182\u001b[0m         out \u001b[38;5;241m=\u001b[39m wrap_df(\u001b[43mplr\u001b[49m\u001b[38;5;241;43m.\u001b[39;49m\u001b[43mconcat_df\u001b[49m\u001b[43m(\u001b[49m\u001b[43melems\u001b[49m\u001b[43m)\u001b[49m)\n\u001b[1;32m    183\u001b[0m     \u001b[38;5;28;01melif\u001b[39;00m how \u001b[38;5;241m==\u001b[39m \u001b[38;5;124m\"\u001b[39m\u001b[38;5;124mvertical_relaxed\u001b[39m\u001b[38;5;124m\"\u001b[39m:\n\u001b[1;32m    184\u001b[0m         out \u001b[38;5;241m=\u001b[39m wrap_ldf(\n\u001b[1;32m    185\u001b[0m             plr\u001b[38;5;241m.\u001b[39mconcat_lf(\n\u001b[1;32m    186\u001b[0m                 [df\u001b[38;5;241m.\u001b[39mlazy() \u001b[38;5;28;01mfor\u001b[39;00m df \u001b[38;5;129;01min\u001b[39;00m elems],\n\u001b[0;32m   (...)\u001b[0m\n\u001b[1;32m    190\u001b[0m             )\n\u001b[1;32m    191\u001b[0m         )\u001b[38;5;241m.\u001b[39mcollect(no_optimization\u001b[38;5;241m=\u001b[39m\u001b[38;5;28;01mTrue\u001b[39;00m)\n",
      "\u001b[0;31mShapeError\u001b[0m: unable to append to a DataFrame of width 36603 with a DataFrame of width 18087"
     ]
    }
   ],
   "source": [
    "combined_df = pl.concat(dfs)\n",
    "\n",
    "# Convert the combined Polars DataFrame to a pandas DataFrame\n",
    "# (necessary for creating AnnData object)\n",
    "pd_df = combined_df.to_pandas()"
   ]
  },
  {
   "cell_type": "code",
   "execution_count": null,
   "metadata": {},
   "outputs": [],
   "source": [
    "index = df.columns[0]\n",
    "data = df.drop(index).to_numpy()"
   ]
  },
  {
   "cell_type": "code",
   "execution_count": null,
   "metadata": {},
   "outputs": [],
   "source": [
    "adata = sc.AnnData(X=data, obs=pd.DataFrame(index=df[index]), var=pd.DataFrame(index=df.columns[1:]))\n",
    "print(adata)"
   ]
  },
  {
   "cell_type": "code",
   "execution_count": null,
   "metadata": {},
   "outputs": [],
   "source": [
    "sc.pp.filter_cells(adata, min_genes=1)\n",
    "sc.pp.filter_genes(adata, min_cells=1)"
   ]
  },
  {
   "cell_type": "code",
   "execution_count": null,
   "metadata": {},
   "outputs": [],
   "source": [
    "sc.pp.normalize_total(adata)"
   ]
  },
  {
   "cell_type": "code",
   "execution_count": null,
   "metadata": {},
   "outputs": [],
   "source": [
    "pd_df = df.to_pandas()\n",
    "pd_df.to_hdf('gene_expression.h5', key='data', mode='w', complevel=5, complib='blosc')"
   ]
  },
  {
   "cell_type": "code",
   "execution_count": null,
   "metadata": {},
   "outputs": [],
   "source": [
    "df.head()"
   ]
  },
  {
   "cell_type": "code",
   "execution_count": null,
   "metadata": {},
   "outputs": [],
   "source": [
    "adata = sc.AnnData(pd_df)"
   ]
  },
  {
   "cell_type": "code",
   "execution_count": null,
   "metadata": {},
   "outputs": [],
   "source": [
    "import h5py\n",
    "\n",
    "with h5py.File('gene_expression.h5', 'r') as f:\n",
    "    print(list(f['data']['axis0'].keys()))"
   ]
  },
  {
   "cell_type": "code",
   "execution_count": null,
   "metadata": {},
   "outputs": [],
   "source": [
    "adata = sc.read_hdf('gene_expression.h5', key='data')"
   ]
  },
  {
   "cell_type": "code",
   "execution_count": null,
   "metadata": {},
   "outputs": [],
   "source": []
  }
 ],
 "metadata": {
  "kernelspec": {
   "display_name": "base",
   "language": "python",
   "name": "python3"
  },
  "language_info": {
   "codemirror_mode": {
    "name": "ipython",
    "version": 3
   },
   "file_extension": ".py",
   "mimetype": "text/x-python",
   "name": "python",
   "nbconvert_exporter": "python",
   "pygments_lexer": "ipython3",
   "version": "3.10.14"
  }
 },
 "nbformat": 4,
 "nbformat_minor": 2
}
